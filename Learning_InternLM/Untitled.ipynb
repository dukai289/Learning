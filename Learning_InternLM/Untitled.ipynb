{
 "cells": [
  {
   "cell_type": "code",
   "execution_count": 1,
   "id": "118cfe05-4453-4f32-a314-82775111e325",
   "metadata": {},
   "outputs": [],
   "source": [
    "file = r'D:\\WorkSpace_dukai\\LLM\\Learning\\Learning_InternLM\\data\\知识库内容支持--营养科学部.docx'"
   ]
  },
  {
   "cell_type": "code",
   "execution_count": 3,
   "id": "8db55c05-f47e-43e0-9b7a-5bcb696557e9",
   "metadata": {},
   "outputs": [],
   "source": [
    "import tiktoken"
   ]
  },
  {
   "cell_type": "code",
   "execution_count": 9,
   "id": "edf1cfa2-69d0-406e-98fc-0368136f89a1",
   "metadata": {},
   "outputs": [
    {
     "ename": "LookupError",
     "evalue": "unknown encoding: gb2516",
     "output_type": "error",
     "traceback": [
      "\u001b[1;31m---------------------------------------------------------------------------\u001b[0m",
      "\u001b[1;31mLookupError\u001b[0m                               Traceback (most recent call last)",
      "Cell \u001b[1;32mIn[9], line 1\u001b[0m\n\u001b[1;32m----> 1\u001b[0m \u001b[38;5;28;01mwith\u001b[39;00m \u001b[38;5;28mopen\u001b[39m(file, \u001b[38;5;124m'\u001b[39m\u001b[38;5;124mr\u001b[39m\u001b[38;5;124m'\u001b[39m,encoding\u001b[38;5;241m=\u001b[39m\u001b[38;5;124m'\u001b[39m\u001b[38;5;124mgb2516\u001b[39m\u001b[38;5;124m'\u001b[39m) \u001b[38;5;28;01mas\u001b[39;00m f:\n\u001b[0;32m      2\u001b[0m     data \u001b[38;5;241m=\u001b[39m f\u001b[38;5;241m.\u001b[39mread()\n\u001b[0;32m      3\u001b[0m data[:\u001b[38;5;241m100\u001b[39m]\n",
      "File \u001b[1;32m~\\.conda\\envs\\LLM_env\\Lib\\site-packages\\IPython\\core\\interactiveshell.py:286\u001b[0m, in \u001b[0;36m_modified_open\u001b[1;34m(file, *args, **kwargs)\u001b[0m\n\u001b[0;32m    279\u001b[0m \u001b[38;5;28;01mif\u001b[39;00m file \u001b[38;5;129;01min\u001b[39;00m {\u001b[38;5;241m0\u001b[39m, \u001b[38;5;241m1\u001b[39m, \u001b[38;5;241m2\u001b[39m}:\n\u001b[0;32m    280\u001b[0m     \u001b[38;5;28;01mraise\u001b[39;00m \u001b[38;5;167;01mValueError\u001b[39;00m(\n\u001b[0;32m    281\u001b[0m         \u001b[38;5;124mf\u001b[39m\u001b[38;5;124m\"\u001b[39m\u001b[38;5;124mIPython won\u001b[39m\u001b[38;5;124m'\u001b[39m\u001b[38;5;124mt let you open fd=\u001b[39m\u001b[38;5;132;01m{\u001b[39;00mfile\u001b[38;5;132;01m}\u001b[39;00m\u001b[38;5;124m by default \u001b[39m\u001b[38;5;124m\"\u001b[39m\n\u001b[0;32m    282\u001b[0m         \u001b[38;5;124m\"\u001b[39m\u001b[38;5;124mas it is likely to crash IPython. If you know what you are doing, \u001b[39m\u001b[38;5;124m\"\u001b[39m\n\u001b[0;32m    283\u001b[0m         \u001b[38;5;124m\"\u001b[39m\u001b[38;5;124myou can use builtins\u001b[39m\u001b[38;5;124m'\u001b[39m\u001b[38;5;124m open.\u001b[39m\u001b[38;5;124m\"\u001b[39m\n\u001b[0;32m    284\u001b[0m     )\n\u001b[1;32m--> 286\u001b[0m \u001b[38;5;28;01mreturn\u001b[39;00m io_open(file, \u001b[38;5;241m*\u001b[39margs, \u001b[38;5;241m*\u001b[39m\u001b[38;5;241m*\u001b[39mkwargs)\n",
      "\u001b[1;31mLookupError\u001b[0m: unknown encoding: gb2516"
     ]
    }
   ],
   "source": [
    "with open(file, 'r',encoding='gb2516') as f:\n",
    "    data = f.read()\n",
    "data[:100]"
   ]
  },
  {
   "cell_type": "code",
   "execution_count": 4,
   "id": "e5ac5d83-c97e-4084-98f7-cfa36617e8d7",
   "metadata": {},
   "outputs": [],
   "source": [
    "encoding = tiktoken.encoding_for_model('gpt-3.5-turbo')"
   ]
  },
  {
   "cell_type": "code",
   "execution_count": 5,
   "id": "184cb4e2-8930-4186-8d11-2d68be4b5626",
   "metadata": {},
   "outputs": [
    {
     "ename": "NameError",
     "evalue": "name 'string' is not defined",
     "output_type": "error",
     "traceback": [
      "\u001b[1;31m---------------------------------------------------------------------------\u001b[0m",
      "\u001b[1;31mNameError\u001b[0m                                 Traceback (most recent call last)",
      "Cell \u001b[1;32mIn[5], line 1\u001b[0m\n\u001b[1;32m----> 1\u001b[0m num_tokens \u001b[38;5;241m=\u001b[39m \u001b[38;5;28mlen\u001b[39m(encoding\u001b[38;5;241m.\u001b[39mencode(string))\n\u001b[0;32m      2\u001b[0m num_tokens\n",
      "\u001b[1;31mNameError\u001b[0m: name 'string' is not defined"
     ]
    }
   ],
   "source": [
    "num_tokens = len(encoding.encode(string))\n",
    "num_tokens"
   ]
  },
  {
   "cell_type": "markdown",
   "id": "fe8363bb-2dea-4b06-a18a-67f3fbd04ca6",
   "metadata": {},
   "source": [
    "# 处理"
   ]
  },
  {
   "cell_type": "code",
   "execution_count": 22,
   "id": "9e0ec67c-2d4d-43dd-bffe-25db6bdbc949",
   "metadata": {},
   "outputs": [],
   "source": [
    "file = r'D:\\WorkSpace_dukai\\LLM\\Learning\\Learning_InternLM\\data\\知识库内容.xlsx'"
   ]
  },
  {
   "cell_type": "code",
   "execution_count": 23,
   "id": "25fdb7fd-4270-4551-9d47-0034bff92002",
   "metadata": {},
   "outputs": [],
   "source": [
    "import pandas as pd\n",
    "import json"
   ]
  },
  {
   "cell_type": "code",
   "execution_count": 24,
   "id": "ed9fd7d2-8bf3-41a7-9495-f6e5ddd9ee02",
   "metadata": {},
   "outputs": [
    {
     "data": {
      "text/html": [
       "<div>\n",
       "<style scoped>\n",
       "    .dataframe tbody tr th:only-of-type {\n",
       "        vertical-align: middle;\n",
       "    }\n",
       "\n",
       "    .dataframe tbody tr th {\n",
       "        vertical-align: top;\n",
       "    }\n",
       "\n",
       "    .dataframe thead th {\n",
       "        text-align: right;\n",
       "    }\n",
       "</style>\n",
       "<table border=\"1\" class=\"dataframe\">\n",
       "  <thead>\n",
       "    <tr style=\"text-align: right;\">\n",
       "      <th></th>\n",
       "      <th>info_1</th>\n",
       "      <th>info_2</th>\n",
       "      <th>Q</th>\n",
       "      <th>A</th>\n",
       "    </tr>\n",
       "  </thead>\n",
       "  <tbody>\n",
       "    <tr>\n",
       "      <th>0</th>\n",
       "      <td>有机食品</td>\n",
       "      <td>有机食品</td>\n",
       "      <td>什么是有机食品？</td>\n",
       "      <td>有机指的是食物在生产过程中严格按照有机生产规程，无农药、无化肥、无激素、无转基因。对于土壤，...</td>\n",
       "    </tr>\n",
       "    <tr>\n",
       "      <th>1</th>\n",
       "      <td>有机食品</td>\n",
       "      <td>有机食品的优势</td>\n",
       "      <td>有机食品的优势</td>\n",
       "      <td>有机食品对比普通食品，1、含有更多的营养素，重金属、抗生素、化学物质的污染更少；2、对于动物...</td>\n",
       "    </tr>\n",
       "    <tr>\n",
       "      <th>2</th>\n",
       "      <td>油脂类</td>\n",
       "      <td>冷榨坚果油</td>\n",
       "      <td>什么是冷榨工艺？</td>\n",
       "      <td>冷榨是一种食用油的加工工艺，一般冷榨法在低于60℃的环境下进行加工，送入榨油机压榨，冷榨不需...</td>\n",
       "    </tr>\n",
       "    <tr>\n",
       "      <th>3</th>\n",
       "      <td>油脂类</td>\n",
       "      <td>冷榨坚果油</td>\n",
       "      <td>购买时注意事项</td>\n",
       "      <td>不建议炒菜，建议凉拌菜。购买时尽量选择棕色瓶子的。</td>\n",
       "    </tr>\n",
       "    <tr>\n",
       "      <th>4</th>\n",
       "      <td>油脂类</td>\n",
       "      <td>冷榨坚果油</td>\n",
       "      <td>储存</td>\n",
       "      <td>储藏着避光，或冰箱中。</td>\n",
       "    </tr>\n",
       "  </tbody>\n",
       "</table>\n",
       "</div>"
      ],
      "text/plain": [
       "  info_1   info_2         Q                                                  A\n",
       "0   有机食品     有机食品  什么是有机食品？  有机指的是食物在生产过程中严格按照有机生产规程，无农药、无化肥、无激素、无转基因。对于土壤，...\n",
       "1   有机食品  有机食品的优势   有机食品的优势  有机食品对比普通食品，1、含有更多的营养素，重金属、抗生素、化学物质的污染更少；2、对于动物...\n",
       "2    油脂类    冷榨坚果油  什么是冷榨工艺？  冷榨是一种食用油的加工工艺，一般冷榨法在低于60℃的环境下进行加工，送入榨油机压榨，冷榨不需...\n",
       "3    油脂类    冷榨坚果油   购买时注意事项                          不建议炒菜，建议凉拌菜。购买时尽量选择棕色瓶子的。\n",
       "4    油脂类    冷榨坚果油        储存                                        储藏着避光，或冰箱中。"
      ]
     },
     "execution_count": 24,
     "metadata": {},
     "output_type": "execute_result"
    }
   ],
   "source": [
    "df = pd.read_excel(file)\n",
    "df.head()"
   ]
  },
  {
   "cell_type": "code",
   "execution_count": 26,
   "id": "9b242e00-9e64-47a0-8df3-a0a8744a4981",
   "metadata": {
    "scrolled": true
   },
   "outputs": [
    {
     "data": {
      "text/plain": [
       "86"
      ]
     },
     "execution_count": 26,
     "metadata": {},
     "output_type": "execute_result"
    }
   ],
   "source": [
    "output_data = []\n",
    "for idx,row in df.iterrows():\n",
    "    system_value = \"You are a professional, highly experienced doctor professor. You always provide accurate, comprehensive, and detailed answers based on the patients' questions.\"\n",
    "    input_row = '关于`{}`的`{}`问题,{}?'.format(row['info_1'], row['info_2'], row['Q'])\n",
    "    conversation = {\n",
    "        \"system\": system_value,\n",
    "        \"input\": input_row,\n",
    "        \"output\": row['A']\n",
    "    }\n",
    "    # print(conversation)\n",
    "    output_data.append({\"conversation\": [conversation]})\n",
    "len(output_data)"
   ]
  },
  {
   "cell_type": "code",
   "execution_count": 28,
   "id": "2dcd1ce2-f5e0-4677-83d6-c85a2e1a0510",
   "metadata": {},
   "outputs": [],
   "source": [
    "output_file = r'D:\\WorkSpace_dukai\\LLM\\Learning\\Learning_InternLM\\data\\dataset_cq.jsonl'\n",
    "with open(output_file, 'w', encoding='utf-8') as json_file:\n",
    "    json.dump(output_data, json_file, indent=4,ensure_ascii=False)"
   ]
  },
  {
   "cell_type": "code",
   "execution_count": null,
   "id": "f0efc95e-c1dd-4061-bd0c-76e425dbee8b",
   "metadata": {},
   "outputs": [],
   "source": []
  }
 ],
 "metadata": {
  "kernelspec": {
   "display_name": "LLM_env",
   "language": "python",
   "name": "llm_env"
  },
  "language_info": {
   "codemirror_mode": {
    "name": "ipython",
    "version": 3
   },
   "file_extension": ".py",
   "mimetype": "text/x-python",
   "name": "python",
   "nbconvert_exporter": "python",
   "pygments_lexer": "ipython3",
   "version": "3.11.5"
  }
 },
 "nbformat": 4,
 "nbformat_minor": 5
}
